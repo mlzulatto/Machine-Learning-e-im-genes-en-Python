{
 "cells": [
  {
   "cell_type": "markdown",
   "metadata": {},
   "source": [
    "# Actividad 1 Curso MLIP 2020\n",
    "\n",
    "A continuación, se listarán ejercicios similares a los vistos en la clase 1 para que sean resueltos y entregados en Google Classroom."
   ]
  },
  {
   "cell_type": "markdown",
   "metadata": {
    "colab_type": "text",
    "id": "wWqGBb9bL2qH"
   },
   "source": [
    "## Ejercicio 1: Tipo de datos\n",
    "\n",
    "a) Asignar un valor de cada tipo a 3 variables (ej: la variable *a* sea un valor \"string\", la variable *b* un valor \"int\" y la *c* un valor \"float\")\n",
    "\n",
    "b) Luego verificar los tipos de variable usando datos booleanos (\"boolean\"), por ejemplo:\n",
    "\n",
    "`print(type(a) == \"string\")`\n",
    "\n",
    "debería imprimir True si *a* fuese \"string\" o False si fuese \"float\" o \"int\"\n",
    "\n",
    "**Nota:** Recordar que para que una variable sea de un tipo debe asignarse un valor que lo declare automáticamente (ej: a = \"hola\" hace que *a* sea string) o forzarlo con el comando (ej: a = str(2) hace que *a* sea string aunque el 2 sea un entero)\n",
    "\n"
   ]
  },
  {
   "cell_type": "code",
   "execution_count": null,
   "metadata": {
    "colab": {},
    "colab_type": "code",
    "executionInfo": {
     "elapsed": 651,
     "status": "ok",
     "timestamp": 1598372761170,
     "user": {
      "displayName": "Juanma López",
      "photoUrl": "https://lh3.googleusercontent.com/a-/AOh14Ggum8MWbU6cekwSb0FaxpVuLfMnlHuo_AFy1Y7vLQ=s64",
      "userId": "06697444655803170726"
     },
     "user_tz": 180
    },
    "id": "TQGvAdFLKm5q"
   },
   "outputs": [],
   "source": [
    "#a\n",
    "a, b, c=\"Holis\", 2, 0.3\n",
    "#b\n",
    "print(\"a=int?\", type(a)==int)\n",
    "print(\"a=string?\", type(a)==str)\n",
    "print(\"b=string?\", type(b)==str)\n",
    "print(\"b=int?\", type(b)==int)\n",
    "print(\"c=string?\", type(c)==str)\n",
    "print(\"c=float?\", type(c)==float)"
   ]
  },
  {
   "cell_type": "markdown",
   "metadata": {
    "colab_type": "text",
    "id": "ywWutwXYcPBe"
   },
   "source": [
    "## Ejercicio 2:  Librería Numpy, Arreglos, Vectores\n",
    "\n",
    "a) Defina y muestre un vector *s* que empiece en 1, su paso sea igual a 4 y no supere el 27\n",
    "\n",
    "b) Muestre el sexto y el último lugar de *s*\n",
    "\n",
    "c) Genere un vector *r* desde el segundo elemento al 5\n",
    "\n",
    "d) Muestre el vector de los cuadrados de cada elemento de *r*. Asignele el nombre *q*\n",
    "\n",
    "e) Muestre el vector de cada elemento del anterior elevado a un exponente igual a dicho elemento. Asignele el nombre *t*"
   ]
  },
  {
   "cell_type": "code",
   "execution_count": 7,
   "metadata": {
    "colab": {},
    "colab_type": "code",
    "executionInfo": {
     "elapsed": 802,
     "status": "ok",
     "timestamp": 1598373425060,
     "user": {
      "displayName": "Juanma López",
      "photoUrl": "https://lh3.googleusercontent.com/a-/AOh14Ggum8MWbU6cekwSb0FaxpVuLfMnlHuo_AFy1Y7vLQ=s64",
      "userId": "06697444655803170726"
     },
     "user_tz": 180
    },
    "id": "MwPtGTercMry"
   },
   "outputs": [
    {
     "name": "stdout",
     "output_type": "stream",
     "text": [
      "vector s= [ 1  5  9 13 17 21 25]\n",
      "\n",
      "sexto lugar de s= 21\n",
      "ultimo lugar de s= 25\n",
      "\n",
      "los elemntos del vector recortado= [ 5  9 13 17]\n",
      "\n",
      "vector de los cuadrados del vector recortado= [ 25  81 169 289]\n",
      "\n",
      "vector de cada elemento del anterior elevado a un exponente igual a dicho elemento= [8.8817842e+034 3.8662197e+154            inf            inf]\n"
     ]
    },
    {
     "name": "stderr",
     "output_type": "stream",
     "text": [
      "<ipython-input-7-725ee1900775>:24: RuntimeWarning: overflow encountered in power\n",
      "  t=m**m\n"
     ]
    }
   ],
   "source": [
    "import numpy as np\n",
    "#a\n",
    "s=np.arange(1,27,4)\n",
    "print(\"vector s=\", s)\n",
    "print()\n",
    "\n",
    "#b\n",
    "print(\"sexto lugar de s=\", s[5]) \n",
    "print(\"ultimo lugar de s=\", s[-1])\n",
    "print()\n",
    "\n",
    "#c\n",
    "r=s[1:5]\n",
    "print(\"los elemntos del vector recortado=\", r)\n",
    "print()\n",
    "\n",
    "#d\n",
    "q=r**2\n",
    "print(\"vector de los cuadrados del vector recortado=\", q)\n",
    "print()\n",
    "\n",
    "#e\n",
    "m=q.astype(np.float64)\n",
    "t=m**m\n",
    "print(\"vector de cada elemento del anterior elevado a un exponente igual a dicho elemento=\", t)"
   ]
  },
  {
   "cell_type": "markdown",
   "metadata": {
    "colab_type": "text",
    "id": "Zua7CODQebI5"
   },
   "source": [
    "## Ejercicio 3: Gráficos en Matplotlib\n",
    "\n",
    "Genere dos gráficos. Uno para el vector *s* del **Ejercicio 2** y otro donde ubique los vectores *r*, *q* y *t* diferenciandolos por color y tipo de línea como mejor lo considere. Asignele títulos acorde a cada uno de los gráficos."
   ]
  },
  {
   "cell_type": "code",
   "execution_count": 21,
   "metadata": {
    "colab": {},
    "colab_type": "code",
    "executionInfo": {
     "elapsed": 640,
     "status": "ok",
     "timestamp": 1598373941761,
     "user": {
      "displayName": "Juanma López",
      "photoUrl": "https://lh3.googleusercontent.com/a-/AOh14Ggum8MWbU6cekwSb0FaxpVuLfMnlHuo_AFy1Y7vLQ=s64",
      "userId": "06697444655803170726"
     },
     "user_tz": 180
    },
    "id": "d9a0cKQseaSD"
   },
   "outputs": [
    {
     "data": {
      "image/png": "[encoded data removed]",
      "text/plain": [
       "<Figure size 432x288 with 1 Axes>"
      ]
     },
     "metadata": {
      "needs_background": "light"
     },
     "output_type": "display_data"
    },
    {
     "data": {
      "image/png": "[encoded data removed]",
      "text/plain": [
       "<Figure size 432x288 with 1 Axes>"
      ]
     },
     "metadata": {
      "needs_background": "light"
     },
     "output_type": "display_data"
    }
   ],
   "source": [
    "#Ejercicio 3 Se debe correr el bloque anterior para guardar los datos de las variables\n",
    "import matplotlib.pyplot as plt\n",
    "import numpy as np\n",
    "\n",
    "plt.plot(s)\n",
    "plt.gca().legend(('vector s', ))\n",
    "plt.title('Vector s')\n",
    "plt.show()\n",
    "\n",
    "plt.plot( r, 'g', q ,'r-.') \n",
    "plt.gca().legend(('vector r','vector q','vector t'))\n",
    "plt.title('Vectores r y q')\n",
    "plt.show()\n",
    "# Debido a que t nos devolvio una matriz overflow, no lo integro en la grafica"
   ]
  },
  {
   "cell_type": "markdown",
   "metadata": {
    "colab_type": "text",
    "id": "Zua7CODQebI5"
   },
   "source": [
    "## Ejercicio 4: Trabajo en clase\n",
    "\n",
    "Transcriba la consigna y resolución de alguno de los ejercicios propuestos y realizados en clase"
   ]
  },
  {
   "cell_type": "code",
   "execution_count": null,
   "metadata": {
    "colab": {},
    "colab_type": "code",
    "executionInfo": {
     "elapsed": 640,
     "status": "ok",
     "timestamp": 1598373941761,
     "user": {
      "displayName": "Juanma López",
      "photoUrl": "https://lh3.googleusercontent.com/a-/AOh14Ggum8MWbU6cekwSb0FaxpVuLfMnlHuo_AFy1Y7vLQ=s64",
      "userId": "06697444655803170726"
     },
     "user_tz": 180
    },
    "id": "d9a0cKQseaSD"
   },
   "outputs": [],
   "source": [
    "#Ejercicio 5:\n",
    "\n",
    "#Asigne el valor 7 a la variable  𝑥 .\n",
    "#Verifique e imprima la veracidad de la siguiente afirmación:  𝑥2+5−2  igual a  (𝑥∗5−9)∗2 , para el valor  𝑥  asignado en el item anterior, usando las herramientas vistas hasta el momento.\n",
    "#Verifique e imprima que no es cireto si x es -7\n",
    "\n",
    "x=7\n",
    "y=(x**2+5-2) == ((x*5-9)*2)\n",
    "print(\"cuando x=7 y=\", y)\n",
    "\n",
    "x=-7\n",
    "y=(x**2+5-2) == ((x*5-9)*2)\n",
    "print(\"cuando x=-7 y=\", y)"
   ]
  },
  {
   "cell_type": "markdown",
   "metadata": {
    "colab_type": "text",
    "id": "c-_Vq2AZgt7b"
   },
   "source": [
    "## Ejercicio 5 (Opcional): Estructuras *for* e *if*\n",
    "\n",
    "a) Solicite al usuario el ingreso de un valor numérico que sea entero y positivo.\n",
    "b) Verifique que dicho valor cumpla las condiciones mencionadas (entero y positivo) con un condicional if (puede incluir la impresión de un mensaje que aclare el error que se pueda cometer)\n",
    "\n",
    "c) Si el valor cumple las condiciones, utilizar un bucle for para imprimir el mensaje \"Hola\" tantas veces como el valor ingresado lo indique."
   ]
  },
  {
   "cell_type": "code",
   "execution_count": 18,
   "metadata": {
    "colab": {},
    "colab_type": "code",
    "id": "EzcSrv15gs7n"
   },
   "outputs": [
    {
     "name": "stdout",
     "output_type": "stream",
     "text": [
      "Ingrese un número entero y positivo: g\n"
     ]
    },
    {
     "ename": "ValueError",
     "evalue": "invalid literal for int() with base 10: 'g'",
     "output_type": "error",
     "traceback": [
      "\u001b[1;31m---------------------------------------------------------------------------\u001b[0m",
      "\u001b[1;31mValueError\u001b[0m                                Traceback (most recent call last)",
      "\u001b[1;32m<ipython-input-18-b2fbeb65faf6>\u001b[0m in \u001b[0;36m<module>\u001b[1;34m\u001b[0m\n\u001b[0;32m      1\u001b[0m \u001b[1;31m#Ejercicio 5\u001b[0m\u001b[1;33m\u001b[0m\u001b[1;33m\u001b[0m\u001b[1;33m\u001b[0m\u001b[0m\n\u001b[1;32m----> 2\u001b[1;33m \u001b[0mnumero\u001b[0m\u001b[1;33m=\u001b[0m\u001b[0mint\u001b[0m\u001b[1;33m(\u001b[0m\u001b[0minput\u001b[0m\u001b[1;33m(\u001b[0m\u001b[1;34m\"Ingrese un número entero y positivo: \"\u001b[0m\u001b[1;33m)\u001b[0m\u001b[1;33m)\u001b[0m\u001b[1;33m\u001b[0m\u001b[1;33m\u001b[0m\u001b[0m\n\u001b[0m\u001b[0;32m      3\u001b[0m \u001b[1;32mif\u001b[0m \u001b[0mnumero\u001b[0m\u001b[1;33m<\u001b[0m\u001b[1;36m0\u001b[0m\u001b[1;33m:\u001b[0m\u001b[1;33m\u001b[0m\u001b[1;33m\u001b[0m\u001b[0m\n\u001b[0;32m      4\u001b[0m     \u001b[0mprint\u001b[0m\u001b[1;33m(\u001b[0m\u001b[1;34m\"Error, el numero no es positivo\"\u001b[0m\u001b[1;33m)\u001b[0m\u001b[1;33m\u001b[0m\u001b[1;33m\u001b[0m\u001b[0m\n\u001b[0;32m      5\u001b[0m \u001b[1;32melif\u001b[0m \u001b[0mtype\u001b[0m\u001b[1;33m(\u001b[0m\u001b[0mnumero\u001b[0m\u001b[1;33m)\u001b[0m\u001b[1;33m!=\u001b[0m\u001b[0mint\u001b[0m\u001b[1;33m:\u001b[0m\u001b[1;33m\u001b[0m\u001b[1;33m\u001b[0m\u001b[0m\n",
      "\u001b[1;31mValueError\u001b[0m: invalid literal for int() with base 10: 'g'"
     ]
    }
   ],
   "source": [
    "#Ejercicio 5\n",
    "numero=int(input(\"Ingrese un número entero y positivo: \"))\n",
    "if numero<0:\n",
    "    print(\"Error, el numero no es positivo\")\n",
    "elif type(numero)!=int:\n",
    "    print(\"Error, el numero no es entero\")\n",
    "else:\n",
    "    for a in range(numero):\n",
    "        print(\"Holis\")\n",
    "    \n",
    "#Aun asi cuando ingrese un dato flotante o str lo detectara como un error "
   ]
  },
  {
   "cell_type": "markdown",
   "metadata": {},
   "source": []
  },
  {
   "cell_type": "code",
   "execution_count": null,
   "metadata": {},
   "outputs": [],
   "source": []
  }
 ],
 "metadata": {
  "colab": {
   "authorship_tag": "ABX9TyOp3n5+IdVm4uRrmo5dsQJ4",
   "name": "Ntb1_Actividades.ipynb",
   "provenance": []
  },
  "kernelspec": {
   "display_name": "Python 3",
   "language": "python",
   "name": "python3"
  },
  "language_info": {
   "codemirror_mode": {
    "name": "ipython",
    "version": 3
   },
   "file_extension": ".py",
   "mimetype": "text/x-python",
   "name": "python",
   "nbconvert_exporter": "python",
   "pygments_lexer": "ipython3",
   "version": "3.8.5"
  }
 },
 "nbformat": 4,
 "nbformat_minor": 1
}
